{
 "cells": [
  {
   "cell_type": "markdown",
   "metadata": {},
   "source": [
    "# WeatherPy\n",
    "\n",
    "---\n",
    "\n",
    "## Starter Code to Generate Random Geographic Coordinates and a List of Cities"
   ]
  },
  {
   "cell_type": "code",
   "execution_count": null,
   "metadata": {
    "scrolled": true
   },
   "outputs": [],
   "source": [
    "# Dependencies and Setup\n",
    "import matplotlib.pyplot as plt\n",
    "import pandas as pd\n",
    "import numpy as np\n",
    "import requests\n",
    "import time\n",
    "from scipy.stats import linregress\n",
    "\n",
    "# Impor the OpenWeatherMap API key\n",
    "from api_keys import weather_api_key\n",
    "\n",
    "# Import citipy to determine the cities based on latitude and longitude\n",
    "from citipy import citipy"
   ]
  },
  {
   "cell_type": "markdown",
   "metadata": {},
   "source": [
    "### Generate the Cities List by Using the `citipy` Library"
   ]
  },
  {
   "cell_type": "code",
   "execution_count": 3,
   "metadata": {},
   "outputs": [
    {
     "name": "stdout",
     "output_type": "stream",
     "text": [
      "<citipy.citipy.City object at 0x0000014DF2CD98E0>\n",
      "tainan\n"
     ]
    },
    {
     "data": {
      "text/plain": [
       "'tw'"
      ]
     },
     "execution_count": 3,
     "metadata": {},
     "output_type": "execute_result"
    }
   ],
   "source": [
    "# Sample code to test citipy\n",
    "city = citipy.nearest_city(22.99, 120.21)\n",
    "print (city)\n",
    "\n",
    "city.city_name              # Tainan, is the city name\n",
    "print (city.city_name)\n",
    "\n",
    "city.country_code           # this city is in Taiwan"
   ]
  },
  {
   "cell_type": "code",
   "execution_count": null,
   "metadata": {},
   "outputs": [],
   "source": [
    "# # Empty list for holding the latitude and longitude combinations\n",
    "# lat_lngs = []\n",
    "\n",
    "# # Empty list for holding the cities names\n",
    "# cities = []\n",
    "\n",
    "# # Range of latitudes and longitudes\n",
    "# lat_range = (-90, 90)\n",
    "# lng_range = (-180, 180)\n",
    "\n",
    "# # Create a set of random lat and lng combinations\n",
    "# lats = np.random.uniform(lat_range[0], lat_range[1], size=1500)\n",
    "# lngs = np.random.uniform(lng_range[0], lng_range[1], size=1500)\n",
    "# lat_lngs = zip(lats, lngs)\n",
    "\n",
    "# # Identify nearest city for each lat, lng combination\n",
    "# for lat_lng in lat_lngs:\n",
    "#     city = citipy.nearest_city(lat_lng[0], lat_lng[1]).city_name\n",
    "    \n",
    "#     # If the city is unique, then add it to a our cities list\n",
    "#     if city not in cities:\n",
    "#         cities.append(city)\n",
    "\n",
    "# # Print the city count to confirm sufficient count\n",
    "# print(f\"Number of cities in the list: {len(cities)}\")\n",
    "\n",
    "# cities"
   ]
  },
  {
   "cell_type": "markdown",
   "metadata": {},
   "source": [
    "---"
   ]
  },
  {
   "cell_type": "markdown",
   "metadata": {},
   "source": [
    "## Requirement 1: Create Plots to Showcase the Relationship Between Weather Variables and Latitude\n",
    "\n",
    "### Use the OpenWeatherMap API to retrieve weather data from the cities list generated in the started code"
   ]
  },
  {
   "cell_type": "code",
   "execution_count": null,
   "metadata": {},
   "outputs": [],
   "source": [
    "# # Set the API base URL\n",
    "# url = \"http://api.openweathermap.org/data/2.5/weather?\"\n",
    "# units = \"metric\"\n",
    "\n",
    "# # Build partial query URL\n",
    "# query_url = f\"{url}appid={weather_api_key}&units={units}&q=\"\n",
    "\n",
    "\n",
    "# # Define an empty list to fetch the weather data for each city\n",
    "# city_data = []\n",
    "\n",
    "# # Print to logger\n",
    "# print(\"Beginning Data Retrieval     \")\n",
    "# print(\"-----------------------------\")\n",
    "\n",
    "# # Create counters\n",
    "# record_count = 1\n",
    "# set_count = 1\n",
    "\n",
    "# # Loop through all the cities in our list to fetch weather data\n",
    "# # for i, city in enumerate(cities[0:55]):                           ################ us this one for testing - it limits the number of api calls. \n",
    "# for i, city in enumerate(cities):\n",
    "        \n",
    "#     # Group cities in sets of 50 for logging purposes\n",
    "#     if (i % 50 == 0 and i >= 50):\n",
    "#         set_count += 1\n",
    "#         record_count = 0\n",
    "\n",
    "#     # Create endpoint URL with each city\n",
    "#     city_url= query_url + city\n",
    "    \n",
    "#     # Log the url, record, and set numbers\n",
    "#     print(\"Processing Record %s of Set %s | %s\" % (record_count, set_count, city))\n",
    "\n",
    "#     # Add 1 to the record count\n",
    "#     record_count += 1\n",
    "\n",
    "#     # Run an API request for each of the cities\n",
    "#     try:\n",
    "#         # Parse the JSON and retrieve data\n",
    "#         # city_weather = # YOUR CODE HERE\n",
    "#         city_weather = requests.get(city_url).json()\n",
    "\n",
    "#         # Parse out latitude, longitude, max temp, humidity, cloudiness, wind speed, country, and date\n",
    "#         city_lat = city_weather['coord']['lat']\n",
    "#         city_lng = city_weather['coord']['lon']\n",
    "#         city_max_temp = city_weather['main']['temp_max']\n",
    "#         city_humidity = city_weather['main']['humidity']\n",
    "#         city_clouds = city_weather['clouds']['all']\n",
    "#         city_wind_speed = city_weather['wind']['speed']\n",
    "#         city_wind_direction = city_weather['wind']['deg']\n",
    "#         city_country = city_weather['sys']['country']\n",
    "#         city_date = city_weather['dt']\n",
    "\n",
    "#         # city_lat = # YOUR CODE HERE\n",
    "#         # city_lng = # YOUR CODE HERE\n",
    "#         # city_max_temp = # YOUR CODE HERE\n",
    "#         # city_humidity = # YOUR CODE HERE\n",
    "#         # city_clouds = # YOUR CODE HERE\n",
    "#         # city_wind = # YOUR CODE HERE\n",
    "#         # city_country = # YOUR CODE HERE\n",
    "#         # city_date = # YOUR CODE HERE\n",
    "\n",
    "#         # Append the City information into city_data list\n",
    "#         city_data.append({\"City\": city, \n",
    "#                           \"Lat\": city_lat, \n",
    "#                           \"Lng\": city_lng, \n",
    "#                           \"Max Temp\": city_max_temp,\n",
    "#                           \"Humidity\": city_humidity,\n",
    "#                           \"Cloudiness\": city_clouds,\n",
    "#                           \"Wind Speed\": city_wind_speed,\n",
    "#                           \"Country\": city_country,\n",
    "#                           \"Date\": city_date})\n",
    "\n",
    "#     # If an error is experienced, skip the city\n",
    "#     except:\n",
    "#         print(\"City not found. Skipping...\")\n",
    "#         pass\n",
    "              \n",
    "# # Indicate that Data Loading is complete \n",
    "# print(\"-----------------------------\")\n",
    "# print(\"Data Retrieval Complete      \")\n",
    "# print(\"-----------------------------\")"
   ]
  },
  {
   "cell_type": "code",
   "execution_count": null,
   "metadata": {},
   "outputs": [],
   "source": [
    "# Export the City_Data into a csv\n",
    "#city_data_df.to_csv(\"output/cities.csv\", index_label=\"City_ID\")"
   ]
  },
  {
   "cell_type": "code",
   "execution_count": null,
   "metadata": {},
   "outputs": [],
   "source": [
    "# Read saved data\n",
    "#city_data_df = pd.read_csv(\"output/cities.csv\", index_col=\"City_ID\")\n",
    "\n",
    "# Display sample data\n",
    "#city_data_df.head()"
   ]
  },
  {
   "cell_type": "markdown",
   "metadata": {},
   "source": [
    "# Working from now on using the saved csv file to avoid repeated API calls "
   ]
  },
  {
   "cell_type": "code",
   "execution_count": 6,
   "metadata": {},
   "outputs": [],
   "source": [
    "# Read saved data\n",
    "city_data = pd.read_csv(\"output/cities.csv\", index_col=\"City_ID\")\n"
   ]
  },
  {
   "cell_type": "code",
   "execution_count": 9,
   "metadata": {},
   "outputs": [
    {
     "name": "stdout",
     "output_type": "stream",
     "text": [
      "<class 'pandas.core.frame.DataFrame'>\n",
      "Int64Index: 555 entries, 0 to 554\n",
      "Data columns (total 9 columns):\n",
      " #   Column      Non-Null Count  Dtype  \n",
      "---  ------      --------------  -----  \n",
      " 0   City        555 non-null    object \n",
      " 1   Lat         555 non-null    float64\n",
      " 2   Lng         555 non-null    float64\n",
      " 3   Max Temp    555 non-null    float64\n",
      " 4   Humidity    555 non-null    int64  \n",
      " 5   Cloudiness  555 non-null    int64  \n",
      " 6   Wind Speed  555 non-null    float64\n",
      " 7   Country     551 non-null    object \n",
      " 8   Date        555 non-null    int64  \n",
      "dtypes: float64(4), int64(3), object(2)\n",
      "memory usage: 43.4+ KB\n"
     ]
    }
   ],
   "source": [
    "# Convert the cities weather data into a Pandas DataFrame\n",
    "city_data_df = pd.DataFrame(city_data)\n",
    "\n",
    "# Show Record Count\n",
    "city_data_df.count()\n",
    "city_data_df.info()"
   ]
  },
  {
   "cell_type": "code",
   "execution_count": 10,
   "metadata": {},
   "outputs": [
    {
     "data": {
      "text/html": [
       "<div>\n",
       "<style scoped>\n",
       "    .dataframe tbody tr th:only-of-type {\n",
       "        vertical-align: middle;\n",
       "    }\n",
       "\n",
       "    .dataframe tbody tr th {\n",
       "        vertical-align: top;\n",
       "    }\n",
       "\n",
       "    .dataframe thead th {\n",
       "        text-align: right;\n",
       "    }\n",
       "</style>\n",
       "<table border=\"1\" class=\"dataframe\">\n",
       "  <thead>\n",
       "    <tr style=\"text-align: right;\">\n",
       "      <th></th>\n",
       "      <th>City</th>\n",
       "      <th>Lat</th>\n",
       "      <th>Lng</th>\n",
       "      <th>Max Temp</th>\n",
       "      <th>Humidity</th>\n",
       "      <th>Cloudiness</th>\n",
       "      <th>Wind Speed</th>\n",
       "      <th>Country</th>\n",
       "      <th>Date</th>\n",
       "    </tr>\n",
       "    <tr>\n",
       "      <th>City_ID</th>\n",
       "      <th></th>\n",
       "      <th></th>\n",
       "      <th></th>\n",
       "      <th></th>\n",
       "      <th></th>\n",
       "      <th></th>\n",
       "      <th></th>\n",
       "      <th></th>\n",
       "      <th></th>\n",
       "    </tr>\n",
       "  </thead>\n",
       "  <tbody>\n",
       "    <tr>\n",
       "      <th>0</th>\n",
       "      <td>kruisfontein</td>\n",
       "      <td>-34.0033</td>\n",
       "      <td>24.7314</td>\n",
       "      <td>12.71</td>\n",
       "      <td>90</td>\n",
       "      <td>23</td>\n",
       "      <td>1.79</td>\n",
       "      <td>ZA</td>\n",
       "      <td>1667264247</td>\n",
       "    </tr>\n",
       "    <tr>\n",
       "      <th>1</th>\n",
       "      <td>barrow</td>\n",
       "      <td>71.2906</td>\n",
       "      <td>-156.7887</td>\n",
       "      <td>-21.99</td>\n",
       "      <td>84</td>\n",
       "      <td>0</td>\n",
       "      <td>5.14</td>\n",
       "      <td>US</td>\n",
       "      <td>1667263729</td>\n",
       "    </tr>\n",
       "    <tr>\n",
       "      <th>2</th>\n",
       "      <td>kodiak</td>\n",
       "      <td>57.7900</td>\n",
       "      <td>-152.4072</td>\n",
       "      <td>0.44</td>\n",
       "      <td>46</td>\n",
       "      <td>2</td>\n",
       "      <td>13.69</td>\n",
       "      <td>US</td>\n",
       "      <td>1667264248</td>\n",
       "    </tr>\n",
       "    <tr>\n",
       "      <th>3</th>\n",
       "      <td>faya</td>\n",
       "      <td>18.3851</td>\n",
       "      <td>42.4509</td>\n",
       "      <td>13.06</td>\n",
       "      <td>61</td>\n",
       "      <td>5</td>\n",
       "      <td>1.10</td>\n",
       "      <td>SA</td>\n",
       "      <td>1667264248</td>\n",
       "    </tr>\n",
       "    <tr>\n",
       "      <th>4</th>\n",
       "      <td>ushuaia</td>\n",
       "      <td>-54.8000</td>\n",
       "      <td>-68.3000</td>\n",
       "      <td>4.81</td>\n",
       "      <td>87</td>\n",
       "      <td>75</td>\n",
       "      <td>9.77</td>\n",
       "      <td>AR</td>\n",
       "      <td>1667263732</td>\n",
       "    </tr>\n",
       "  </tbody>\n",
       "</table>\n",
       "</div>"
      ],
      "text/plain": [
       "                 City      Lat       Lng  Max Temp  Humidity  Cloudiness  \\\n",
       "City_ID                                                                    \n",
       "0        kruisfontein -34.0033   24.7314     12.71        90          23   \n",
       "1              barrow  71.2906 -156.7887    -21.99        84           0   \n",
       "2              kodiak  57.7900 -152.4072      0.44        46           2   \n",
       "3                faya  18.3851   42.4509     13.06        61           5   \n",
       "4             ushuaia -54.8000  -68.3000      4.81        87          75   \n",
       "\n",
       "         Wind Speed Country        Date  \n",
       "City_ID                                  \n",
       "0              1.79      ZA  1667264247  \n",
       "1              5.14      US  1667263729  \n",
       "2             13.69      US  1667264248  \n",
       "3              1.10      SA  1667264248  \n",
       "4              9.77      AR  1667263732  "
      ]
     },
     "execution_count": 10,
     "metadata": {},
     "output_type": "execute_result"
    }
   ],
   "source": [
    "# Display sample data\n",
    "city_data_df.head()"
   ]
  },
  {
   "cell_type": "markdown",
   "metadata": {},
   "source": [
    "### Create the Scatter Plots Requested\n",
    "\n",
    "#### Latitude Vs. Temperature"
   ]
  },
  {
   "cell_type": "code",
   "execution_count": 17,
   "metadata": {
    "tags": []
   },
   "outputs": [
    {
     "data": {
      "image/png": "[encoded data removed]",
      "text/plain": [
       "<Figure size 1080x432 with 1 Axes>"
      ]
     },
     "metadata": {
      "needs_background": "light"
     },
     "output_type": "display_data"
    }
   ],
   "source": [
    "# Build scatter plot for latitude vs. temperature\n",
    "city_data_df.plot.scatter( x='Lat', y='Max Temp', figsize=(15, 6))\n",
    "\n",
    "# Incorporate the other graph properties\n",
    "plt.xlabel('Latitude', fontsize = 14, color = 'midnightblue' )\n",
    "plt.ylabel('Maximum Temperature (C)', fontsize = 14, color = 'midnightblue')\n",
    "plt.title('City Latitude vs. Max Temperature 2022-10-31)', \n",
    "           fontsize = 20, \n",
    "           color = 'midnightblue', \n",
    "           fontweight=\"bold\");\n",
    "\n",
    "\n",
    "save_fig = os.path.join('.','output', 'Fig1_Lat_vs_Temp.jpg')             # Prepare to save the figure  \n",
    "plt.savefig(save_fig, bbox_inches='tight')                                # Save the figure\n",
    "\n",
    "\n",
    "# Show plot\n",
    "plt.show()"
   ]
  },
  {
   "cell_type": "markdown",
   "metadata": {},
   "source": [
    "#### Latitude Vs. Humidity"
   ]
  },
  {
   "cell_type": "code",
   "execution_count": 18,
   "metadata": {},
   "outputs": [
    {
     "data": {
      "image/png": "[encoded data removed]",
      "text/plain": [
       "<Figure size 1080x432 with 1 Axes>"
      ]
     },
     "metadata": {
      "needs_background": "light"
     },
     "output_type": "display_data"
    }
   ],
   "source": [
    "# Build the scatter plots for latitude vs. humidity\n",
    "\n",
    "city_data_df.plot.scatter( x='Lat', y='Humidity', figsize=(15, 6))\n",
    "\n",
    "# Incorporate the other graph properties\n",
    "plt.xlabel('Latitude', fontsize = 14, color = 'midnightblue' )\n",
    "plt.ylabel('Humidity (%)', fontsize = 14, color = 'midnightblue')\n",
    "plt.title('City Latitude vs. Humidity (2022-10-31)', \n",
    "           fontsize = 20, \n",
    "           color = 'midnightblue', \n",
    "           fontweight=\"bold\");\n",
    "\n",
    "\n",
    "save_fig = os.path.join('.','output', 'Fig2_Lat_vs_Humidity.jpg')             # Prepare to save the figure  \n",
    "plt.savefig(save_fig, bbox_inches='tight')                                    # Save the figure\n",
    "\n",
    "# Show plot\n",
    "plt.show()"
   ]
  },
  {
   "cell_type": "markdown",
   "metadata": {},
   "source": [
    "#### Latitude Vs. Cloudiness"
   ]
  },
  {
   "cell_type": "code",
   "execution_count": 15,
   "metadata": {},
   "outputs": [
    {
     "data": {
      "text/plain": [
       "Index(['City', 'Lat', 'Lng', 'Max Temp', 'Humidity', 'Cloudiness',\n",
       "       'Wind Speed', 'Country', 'Date'],\n",
       "      dtype='object')"
      ]
     },
     "execution_count": 15,
     "metadata": {},
     "output_type": "execute_result"
    }
   ],
   "source": [
    "city_data_df.columns"
   ]
  },
  {
   "cell_type": "code",
   "execution_count": 19,
   "metadata": {},
   "outputs": [
    {
     "data": {
      "image/png": "[encoded data removed]",
      "text/plain": [
       "<Figure size 1080x432 with 1 Axes>"
      ]
     },
     "metadata": {
      "needs_background": "light"
     },
     "output_type": "display_data"
    }
   ],
   "source": [
    "# Build the scatter plots for latitude vs. cloudiness\n",
    "city_data_df.plot.scatter( x='Lat', y='Cloudiness', figsize=(15, 6))\n",
    "\n",
    "# Incorporate the other graph properties\n",
    "plt.xlabel('Latitude', fontsize = 14, color = 'midnightblue' )\n",
    "plt.ylabel('Cloudiness (%)', fontsize = 14, color = 'midnightblue')\n",
    "plt.title('City Latitude Vs. Cloudiness (2022-10-31)', \n",
    "           fontsize = 20, \n",
    "           color = 'midnightblue', \n",
    "           fontweight=\"bold\");\n",
    "\n",
    "\n",
    "save_fig = os.path.join('.','output', 'Fig3_Lat_vs_Cloudiness.jpg')             # Prepare to save the figure  \n",
    "plt.savefig(save_fig, bbox_inches='tight')                                      # Save the figure\n",
    "\n",
    "# Show plot\n",
    "plt.show()"
   ]
  },
  {
   "cell_type": "markdown",
   "metadata": {},
   "source": [
    "#### Latitude vs. Wind Speed Plot"
   ]
  },
  {
   "cell_type": "code",
   "execution_count": 24,
   "metadata": {},
   "outputs": [
    {
     "data": {
      "image/png": "[encoded data removed]",
      "text/plain": [
       "<Figure size 1080x432 with 1 Axes>"
      ]
     },
     "metadata": {
      "needs_background": "light"
     },
     "output_type": "display_data"
    }
   ],
   "source": [
    "# Build the scatter plots for latitude vs. wind speed\n",
    "# YOUR CODE HERE\n",
    "\n",
    "title='City Latitude vs Wind Speed (2022-10-31)'\n",
    "ylabel = 'Windspeed (m/s)'\n",
    "xlabel = 'Latitude'\n",
    "ycol = 'Wind Speed'\n",
    "xcol = 'Lat'\n",
    "numfig = 4\n",
    "filename = f'Fig{numfig}_{xlabel}_vs_Windspeed.jpg'\n",
    "\n",
    "# Build the scatter plots for latitude vs. cloudiness\n",
    "city_data_df.plot.scatter( x=xcol, y=ycol, figsize=(15, 6))\n",
    "\n",
    "# Incorporate the other graph properties\n",
    "plt.xlabel(ylabel, fontsize = 14, color = 'midnightblue' )\n",
    "plt.ylabel(xlabel, fontsize = 14, color = 'midnightblue')\n",
    "plt.title(title, \n",
    "           fontsize = 20, \n",
    "           color = 'midnightblue', \n",
    "           fontweight=\"bold\");\n",
    "\n",
    "\n",
    "save_fig = os.path.join('.','output', filename)             # Prepare to save the figure  \n",
    "plt.savefig(save_fig, bbox_inches='tight')                  # Save the figure\n",
    "\n",
    "# Show plot\n",
    "plt.show()\n"
   ]
  },
  {
   "cell_type": "markdown",
   "metadata": {},
   "source": [
    "---\n",
    "\n",
    "## Requirement 2: Compute Linear Regression for Each Relationship\n"
   ]
  },
  {
   "cell_type": "code",
   "execution_count": 39,
   "metadata": {},
   "outputs": [
    {
     "data": {
      "text/html": [
       "<div>\n",
       "<style scoped>\n",
       "    .dataframe tbody tr th:only-of-type {\n",
       "        vertical-align: middle;\n",
       "    }\n",
       "\n",
       "    .dataframe tbody tr th {\n",
       "        vertical-align: top;\n",
       "    }\n",
       "\n",
       "    .dataframe thead th {\n",
       "        text-align: right;\n",
       "    }\n",
       "</style>\n",
       "<table border=\"1\" class=\"dataframe\">\n",
       "  <thead>\n",
       "    <tr style=\"text-align: right;\">\n",
       "      <th></th>\n",
       "      <th>City</th>\n",
       "      <th>Lat</th>\n",
       "      <th>Lng</th>\n",
       "      <th>Max Temp</th>\n",
       "      <th>Humidity</th>\n",
       "      <th>Cloudiness</th>\n",
       "      <th>Wind Speed</th>\n",
       "      <th>Country</th>\n",
       "      <th>Date</th>\n",
       "    </tr>\n",
       "    <tr>\n",
       "      <th>City_ID</th>\n",
       "      <th></th>\n",
       "      <th></th>\n",
       "      <th></th>\n",
       "      <th></th>\n",
       "      <th></th>\n",
       "      <th></th>\n",
       "      <th></th>\n",
       "      <th></th>\n",
       "      <th></th>\n",
       "    </tr>\n",
       "  </thead>\n",
       "  <tbody>\n",
       "    <tr>\n",
       "      <th>0</th>\n",
       "      <td>kruisfontein</td>\n",
       "      <td>-34.0033</td>\n",
       "      <td>24.7314</td>\n",
       "      <td>12.71</td>\n",
       "      <td>90</td>\n",
       "      <td>23</td>\n",
       "      <td>1.79</td>\n",
       "      <td>ZA</td>\n",
       "      <td>1667264247</td>\n",
       "    </tr>\n",
       "    <tr>\n",
       "      <th>1</th>\n",
       "      <td>barrow</td>\n",
       "      <td>71.2906</td>\n",
       "      <td>-156.7887</td>\n",
       "      <td>-21.99</td>\n",
       "      <td>84</td>\n",
       "      <td>0</td>\n",
       "      <td>5.14</td>\n",
       "      <td>US</td>\n",
       "      <td>1667263729</td>\n",
       "    </tr>\n",
       "    <tr>\n",
       "      <th>2</th>\n",
       "      <td>kodiak</td>\n",
       "      <td>57.7900</td>\n",
       "      <td>-152.4072</td>\n",
       "      <td>0.44</td>\n",
       "      <td>46</td>\n",
       "      <td>2</td>\n",
       "      <td>13.69</td>\n",
       "      <td>US</td>\n",
       "      <td>1667264248</td>\n",
       "    </tr>\n",
       "    <tr>\n",
       "      <th>3</th>\n",
       "      <td>faya</td>\n",
       "      <td>18.3851</td>\n",
       "      <td>42.4509</td>\n",
       "      <td>13.06</td>\n",
       "      <td>61</td>\n",
       "      <td>5</td>\n",
       "      <td>1.10</td>\n",
       "      <td>SA</td>\n",
       "      <td>1667264248</td>\n",
       "    </tr>\n",
       "    <tr>\n",
       "      <th>4</th>\n",
       "      <td>ushuaia</td>\n",
       "      <td>-54.8000</td>\n",
       "      <td>-68.3000</td>\n",
       "      <td>4.81</td>\n",
       "      <td>87</td>\n",
       "      <td>75</td>\n",
       "      <td>9.77</td>\n",
       "      <td>AR</td>\n",
       "      <td>1667263732</td>\n",
       "    </tr>\n",
       "  </tbody>\n",
       "</table>\n",
       "</div>"
      ],
      "text/plain": [
       "                 City      Lat       Lng  Max Temp  Humidity  Cloudiness  \\\n",
       "City_ID                                                                    \n",
       "0        kruisfontein -34.0033   24.7314     12.71        90          23   \n",
       "1              barrow  71.2906 -156.7887    -21.99        84           0   \n",
       "2              kodiak  57.7900 -152.4072      0.44        46           2   \n",
       "3                faya  18.3851   42.4509     13.06        61           5   \n",
       "4             ushuaia -54.8000  -68.3000      4.81        87          75   \n",
       "\n",
       "         Wind Speed Country        Date  \n",
       "City_ID                                  \n",
       "0              1.79      ZA  1667264247  \n",
       "1              5.14      US  1667263729  \n",
       "2             13.69      US  1667264248  \n",
       "3              1.10      SA  1667264248  \n",
       "4              9.77      AR  1667263732  "
      ]
     },
     "execution_count": 39,
     "metadata": {},
     "output_type": "execute_result"
    }
   ],
   "source": [
    "df = city_data_df\n",
    "df.head()"
   ]
  },
  {
   "cell_type": "code",
   "execution_count": 67,
   "metadata": {},
   "outputs": [
    {
     "name": "stdout",
     "output_type": "stream",
     "text": [
      "-54.8 78.2186 -54.5339628 0.0329\n"
     ]
    }
   ],
   "source": [
    "df = city_data_df\n",
    "ylabel = 'Windspeed (m/s)'\n",
    "xlabel = 'Latitude'\n",
    "ycol = 'Wind Speed'\n",
    "ydata = df[ycol]\n",
    "xcol = 'Lat'\n",
    "xdata = df[xcol]\n",
    "xdata\n",
    "xmin = xdata.min()\n",
    "xmax = xdata.max()\n",
    "linX = xdata.min() + (xdata.max() - xdata.min())/500\n",
    "linY = ydata.min() + (ydata.max() - ydata.min())/500\n",
    "print (xmin, xmax, linX , linY)"
   ]
  },
  {
   "cell_type": "code",
   "execution_count": 72,
   "metadata": {},
   "outputs": [
    {
     "data": {
      "image/png": "[encoded data removed]",
      "text/plain": [
       "<Figure size 1080x432 with 1 Axes>"
      ]
     },
     "metadata": {
      "needs_background": "light"
     },
     "output_type": "display_data"
    }
   ],
   "source": [
    "#set my variables\n",
    "df = city_data_df\n",
    "title='City Latitude vs Wind Speed (2022-10-31)'\n",
    "ylabel = 'Windspeed (m/s)'\n",
    "xlabel = 'Latitude'\n",
    "ycol = 'Wind Speed'\n",
    "ydata = df[ycol]\n",
    "xcol = 'Lat'\n",
    "xdata = df[xcol]\n",
    "numfig = 5\n",
    "filename = f'Fig{numfig}_{xlabel}_vs_Windspeed.jpg'\n",
    "\n",
    "\n",
    "# linear Regression equation calculation\n",
    "(slope, intercept, rvalue, pvalue, stderr) = linregress(xdata, ydata)\n",
    "regress_values = xdata * slope + intercept\n",
    "\n",
    "# create a string annoation that for the equation of the line and r**2\n",
    "line_eq = \"y = \" + str(round(slope,2)) + \"x + \" + str(round(intercept,2))\n",
    "r_square_str = f'R-Squared = {round(rvalue**2,2)}'\n",
    "\n",
    "# locate the annoation of the linear regression line and R^2 \n",
    "linX = xdata.min() + (xdata.max() - xdata.min())*0.01       # locate the linear regression equation annotation 1% to the right of the smallest x value\n",
    "linY = ydata.min() + (ydata.max() - ydata.min())*0.01       # locate the linear regression equation and r^2 annoation 1% above of the lowest value\n",
    "r2x = xdata.min() + (xdata.max() - xdata.min())*0.2         # locate the r^2 value 20% to the right of the smallest x value\n",
    "\n",
    "# Build the scatter plots for latitude vs. cloudiness\n",
    "df.plot.scatter( x=xcol, y=ycol, figsize=(15, 6))\n",
    "plt.plot(xdata,regress_values,'red')\n",
    "\n",
    "# Incorporate the other graph properties\n",
    "plt.xlabel(ylabel, fontsize = 14, color = 'midnightblue' )\n",
    "plt.ylabel(xlabel, fontsize = 14, color = 'midnightblue')\n",
    "plt.title(title, \n",
    "           fontsize = 20, \n",
    "           color = 'midnightblue', \n",
    "           fontweight=\"bold\");\n",
    "plt.annotate(line_eq,(linX,linY),fontsize=15,color=\"darkred\");                  # This code plots the equation of the line at location (22, 36) on the figure\n",
    "plt.annotate(r_square_str,(r2x,linY),fontsize=15,color=\"darkred\");             # Add the r-squared value to the regression\n",
    "\n",
    "save_fig = os.path.join('.','output', filename)             # Prepare to save the figure  \n",
    "plt.savefig(save_fig, bbox_inches='tight')                  # Save the figure\n",
    "\n"
   ]
  },
  {
   "cell_type": "code",
   "execution_count": null,
   "metadata": {},
   "outputs": [],
   "source": [
    "# Define a function to create Linear Regression plots\n",
    "# YOUR CODE HERE\n"
   ]
  },
  {
   "cell_type": "code",
   "execution_count": 33,
   "metadata": {},
   "outputs": [
    {
     "data": {
      "text/html": [
       "<div>\n",
       "<style scoped>\n",
       "    .dataframe tbody tr th:only-of-type {\n",
       "        vertical-align: middle;\n",
       "    }\n",
       "\n",
       "    .dataframe tbody tr th {\n",
       "        vertical-align: top;\n",
       "    }\n",
       "\n",
       "    .dataframe thead th {\n",
       "        text-align: right;\n",
       "    }\n",
       "</style>\n",
       "<table border=\"1\" class=\"dataframe\">\n",
       "  <thead>\n",
       "    <tr style=\"text-align: right;\">\n",
       "      <th></th>\n",
       "      <th>City</th>\n",
       "      <th>Lat</th>\n",
       "      <th>Lng</th>\n",
       "      <th>Max Temp</th>\n",
       "      <th>Humidity</th>\n",
       "      <th>Cloudiness</th>\n",
       "      <th>Wind Speed</th>\n",
       "      <th>Country</th>\n",
       "      <th>Date</th>\n",
       "    </tr>\n",
       "    <tr>\n",
       "      <th>City_ID</th>\n",
       "      <th></th>\n",
       "      <th></th>\n",
       "      <th></th>\n",
       "      <th></th>\n",
       "      <th></th>\n",
       "      <th></th>\n",
       "      <th></th>\n",
       "      <th></th>\n",
       "      <th></th>\n",
       "    </tr>\n",
       "  </thead>\n",
       "  <tbody>\n",
       "    <tr>\n",
       "      <th>1</th>\n",
       "      <td>barrow</td>\n",
       "      <td>71.2906</td>\n",
       "      <td>-156.7887</td>\n",
       "      <td>-21.99</td>\n",
       "      <td>84</td>\n",
       "      <td>0</td>\n",
       "      <td>5.14</td>\n",
       "      <td>US</td>\n",
       "      <td>1667263729</td>\n",
       "    </tr>\n",
       "    <tr>\n",
       "      <th>2</th>\n",
       "      <td>kodiak</td>\n",
       "      <td>57.7900</td>\n",
       "      <td>-152.4072</td>\n",
       "      <td>0.44</td>\n",
       "      <td>46</td>\n",
       "      <td>2</td>\n",
       "      <td>13.69</td>\n",
       "      <td>US</td>\n",
       "      <td>1667264248</td>\n",
       "    </tr>\n",
       "    <tr>\n",
       "      <th>3</th>\n",
       "      <td>faya</td>\n",
       "      <td>18.3851</td>\n",
       "      <td>42.4509</td>\n",
       "      <td>13.06</td>\n",
       "      <td>61</td>\n",
       "      <td>5</td>\n",
       "      <td>1.10</td>\n",
       "      <td>SA</td>\n",
       "      <td>1667264248</td>\n",
       "    </tr>\n",
       "    <tr>\n",
       "      <th>5</th>\n",
       "      <td>norman wells</td>\n",
       "      <td>65.2820</td>\n",
       "      <td>-126.8329</td>\n",
       "      <td>-14.98</td>\n",
       "      <td>78</td>\n",
       "      <td>75</td>\n",
       "      <td>7.20</td>\n",
       "      <td>CA</td>\n",
       "      <td>1667264248</td>\n",
       "    </tr>\n",
       "    <tr>\n",
       "      <th>11</th>\n",
       "      <td>kapaa</td>\n",
       "      <td>22.0752</td>\n",
       "      <td>-159.3190</td>\n",
       "      <td>28.99</td>\n",
       "      <td>75</td>\n",
       "      <td>20</td>\n",
       "      <td>7.20</td>\n",
       "      <td>US</td>\n",
       "      <td>1667263723</td>\n",
       "    </tr>\n",
       "  </tbody>\n",
       "</table>\n",
       "</div>"
      ],
      "text/plain": [
       "                 City      Lat       Lng  Max Temp  Humidity  Cloudiness  \\\n",
       "City_ID                                                                    \n",
       "1              barrow  71.2906 -156.7887    -21.99        84           0   \n",
       "2              kodiak  57.7900 -152.4072      0.44        46           2   \n",
       "3                faya  18.3851   42.4509     13.06        61           5   \n",
       "5        norman wells  65.2820 -126.8329    -14.98        78          75   \n",
       "11              kapaa  22.0752 -159.3190     28.99        75          20   \n",
       "\n",
       "         Wind Speed Country        Date  \n",
       "City_ID                                  \n",
       "1              5.14      US  1667263729  \n",
       "2             13.69      US  1667264248  \n",
       "3              1.10      SA  1667264248  \n",
       "5              7.20      CA  1667264248  \n",
       "11             7.20      US  1667263723  "
      ]
     },
     "execution_count": 33,
     "metadata": {},
     "output_type": "execute_result"
    }
   ],
   "source": [
    "# Create a DataFrame with the Northern Hemisphere data (Latitude >= 0)\n",
    "northern_hemi_df = city_data_df.loc[city_data_df['Lat'] >= 0]\n",
    "\n",
    "# Display sample data\n",
    "northern_hemi_df.head()"
   ]
  },
  {
   "cell_type": "code",
   "execution_count": 34,
   "metadata": {},
   "outputs": [
    {
     "data": {
      "text/html": [
       "<div>\n",
       "<style scoped>\n",
       "    .dataframe tbody tr th:only-of-type {\n",
       "        vertical-align: middle;\n",
       "    }\n",
       "\n",
       "    .dataframe tbody tr th {\n",
       "        vertical-align: top;\n",
       "    }\n",
       "\n",
       "    .dataframe thead th {\n",
       "        text-align: right;\n",
       "    }\n",
       "</style>\n",
       "<table border=\"1\" class=\"dataframe\">\n",
       "  <thead>\n",
       "    <tr style=\"text-align: right;\">\n",
       "      <th></th>\n",
       "      <th>City</th>\n",
       "      <th>Lat</th>\n",
       "      <th>Lng</th>\n",
       "      <th>Max Temp</th>\n",
       "      <th>Humidity</th>\n",
       "      <th>Cloudiness</th>\n",
       "      <th>Wind Speed</th>\n",
       "      <th>Country</th>\n",
       "      <th>Date</th>\n",
       "    </tr>\n",
       "    <tr>\n",
       "      <th>City_ID</th>\n",
       "      <th></th>\n",
       "      <th></th>\n",
       "      <th></th>\n",
       "      <th></th>\n",
       "      <th></th>\n",
       "      <th></th>\n",
       "      <th></th>\n",
       "      <th></th>\n",
       "      <th></th>\n",
       "    </tr>\n",
       "  </thead>\n",
       "  <tbody>\n",
       "    <tr>\n",
       "      <th>0</th>\n",
       "      <td>kruisfontein</td>\n",
       "      <td>-34.0033</td>\n",
       "      <td>24.7314</td>\n",
       "      <td>12.71</td>\n",
       "      <td>90</td>\n",
       "      <td>23</td>\n",
       "      <td>1.79</td>\n",
       "      <td>ZA</td>\n",
       "      <td>1667264247</td>\n",
       "    </tr>\n",
       "    <tr>\n",
       "      <th>4</th>\n",
       "      <td>ushuaia</td>\n",
       "      <td>-54.8000</td>\n",
       "      <td>-68.3000</td>\n",
       "      <td>4.81</td>\n",
       "      <td>87</td>\n",
       "      <td>75</td>\n",
       "      <td>9.77</td>\n",
       "      <td>AR</td>\n",
       "      <td>1667263732</td>\n",
       "    </tr>\n",
       "    <tr>\n",
       "      <th>6</th>\n",
       "      <td>atuona</td>\n",
       "      <td>-9.8000</td>\n",
       "      <td>-139.0333</td>\n",
       "      <td>24.93</td>\n",
       "      <td>71</td>\n",
       "      <td>1</td>\n",
       "      <td>5.13</td>\n",
       "      <td>PF</td>\n",
       "      <td>1667264249</td>\n",
       "    </tr>\n",
       "    <tr>\n",
       "      <th>7</th>\n",
       "      <td>constitucion</td>\n",
       "      <td>-35.3333</td>\n",
       "      <td>-72.4167</td>\n",
       "      <td>17.01</td>\n",
       "      <td>40</td>\n",
       "      <td>0</td>\n",
       "      <td>3.98</td>\n",
       "      <td>CL</td>\n",
       "      <td>1667264249</td>\n",
       "    </tr>\n",
       "    <tr>\n",
       "      <th>8</th>\n",
       "      <td>busselton</td>\n",
       "      <td>-33.6500</td>\n",
       "      <td>115.3333</td>\n",
       "      <td>16.50</td>\n",
       "      <td>66</td>\n",
       "      <td>92</td>\n",
       "      <td>3.11</td>\n",
       "      <td>AU</td>\n",
       "      <td>1667263725</td>\n",
       "    </tr>\n",
       "  </tbody>\n",
       "</table>\n",
       "</div>"
      ],
      "text/plain": [
       "                 City      Lat       Lng  Max Temp  Humidity  Cloudiness  \\\n",
       "City_ID                                                                    \n",
       "0        kruisfontein -34.0033   24.7314     12.71        90          23   \n",
       "4             ushuaia -54.8000  -68.3000      4.81        87          75   \n",
       "6              atuona  -9.8000 -139.0333     24.93        71           1   \n",
       "7        constitucion -35.3333  -72.4167     17.01        40           0   \n",
       "8           busselton -33.6500  115.3333     16.50        66          92   \n",
       "\n",
       "         Wind Speed Country        Date  \n",
       "City_ID                                  \n",
       "0              1.79      ZA  1667264247  \n",
       "4              9.77      AR  1667263732  \n",
       "6              5.13      PF  1667264249  \n",
       "7              3.98      CL  1667264249  \n",
       "8              3.11      AU  1667263725  "
      ]
     },
     "execution_count": 34,
     "metadata": {},
     "output_type": "execute_result"
    }
   ],
   "source": [
    "# Create a DataFrame with the Southern Hemisphere data (Latitude < 0)\n",
    "southern_hemi_df = city_data_df.loc[city_data_df['Lat'] < 0]\n",
    "\n",
    "# Display sample data\n",
    "southern_hemi_df.head()"
   ]
  },
  {
   "cell_type": "markdown",
   "metadata": {},
   "source": [
    "###  Temperature vs. Latitude Linear Regression Plot"
   ]
  },
  {
   "cell_type": "code",
   "execution_count": null,
   "metadata": {},
   "outputs": [],
   "source": [
    "# Linear regression on Northern Hemisphere\n",
    "# YOUR CODE HERE"
   ]
  },
  {
   "cell_type": "code",
   "execution_count": null,
   "metadata": {},
   "outputs": [],
   "source": [
    "# Linear regression on Southern Hemisphere\n",
    "# YOUR CODE HERE"
   ]
  },
  {
   "cell_type": "markdown",
   "metadata": {},
   "source": [
    "**Discussion about the linear relationship:** YOUR RESPONSE HERE"
   ]
  },
  {
   "cell_type": "markdown",
   "metadata": {},
   "source": [
    "### Humidity vs. Latitude Linear Regression Plot"
   ]
  },
  {
   "cell_type": "code",
   "execution_count": null,
   "metadata": {},
   "outputs": [],
   "source": [
    "# Northern Hemisphere\n",
    "# YOUR CODE HERE"
   ]
  },
  {
   "cell_type": "code",
   "execution_count": null,
   "metadata": {},
   "outputs": [],
   "source": [
    "# Southern Hemisphere\n",
    "# YOUR CODE HERE"
   ]
  },
  {
   "cell_type": "markdown",
   "metadata": {},
   "source": [
    "**Discussion about the linear relationship:** YOUR RESPONSE HERE"
   ]
  },
  {
   "cell_type": "markdown",
   "metadata": {},
   "source": [
    "### Cloudiness vs. Latitude Linear Regression Plot"
   ]
  },
  {
   "cell_type": "code",
   "execution_count": null,
   "metadata": {},
   "outputs": [],
   "source": [
    "# Northern Hemisphere\n",
    "# YOUR CODE HERE"
   ]
  },
  {
   "cell_type": "code",
   "execution_count": null,
   "metadata": {},
   "outputs": [],
   "source": [
    "# Southern Hemisphere\n",
    "# YOUR CODE HERE"
   ]
  },
  {
   "cell_type": "markdown",
   "metadata": {},
   "source": [
    "**Discussion about the linear relationship:** YOUR RESPONSE HERE"
   ]
  },
  {
   "cell_type": "markdown",
   "metadata": {},
   "source": [
    "### Wind Speed vs. Latitude Linear Regression Plot"
   ]
  },
  {
   "cell_type": "code",
   "execution_count": null,
   "metadata": {},
   "outputs": [],
   "source": [
    "# Northern Hemisphere\n",
    "# YOUR CODE HERE"
   ]
  },
  {
   "cell_type": "code",
   "execution_count": null,
   "metadata": {},
   "outputs": [],
   "source": [
    "# Southern Hemisphere\n",
    "# YOUR CODE HERE"
   ]
  },
  {
   "cell_type": "markdown",
   "metadata": {},
   "source": [
    "**Discussion about the linear relationship:** YOUR RESPONSE HERE"
   ]
  },
  {
   "cell_type": "code",
   "execution_count": null,
   "metadata": {},
   "outputs": [],
   "source": []
  }
 ],
 "metadata": {
  "anaconda-cloud": {},
  "kernel_info": {
   "name": "python3"
  },
  "kernelspec": {
   "display_name": "Python 3.9.12 ('base')",
   "language": "python",
   "name": "python3"
  },
  "language_info": {
   "codemirror_mode": {
    "name": "ipython",
    "version": 3
   },
   "file_extension": ".py",
   "mimetype": "text/x-python",
   "name": "python",
   "nbconvert_exporter": "python",
   "pygments_lexer": "ipython3",
   "version": "3.9.12"
  },
  "latex_envs": {
   "LaTeX_envs_menu_present": true,
   "autoclose": false,
   "autocomplete": true,
   "bibliofile": "biblio.bib",
   "cite_by": "apalike",
   "current_citInitial": 1,
   "eqLabelWithNumbers": true,
   "eqNumInitial": 1,
   "hotkeys": {
    "equation": "Ctrl-E",
    "itemize": "Ctrl-I"
   },
   "labels_anchors": false,
   "latex_user_defs": false,
   "report_style_numbering": false,
   "user_envs_cfg": false
  },
  "nteract": {
   "version": "0.12.3"
  },
  "vscode": {
   "interpreter": {
    "hash": "e7f336f9bec1e74624fa1ea8a759f275624ff514e02e1aa8e3e0a6d78d32a22a"
   }
  }
 },
 "nbformat": 4,
 "nbformat_minor": 4
}
